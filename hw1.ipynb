{
 "cells": [
  {
   "cell_type": "code",
   "execution_count": 2,
   "metadata": {},
   "outputs": [],
   "source": [
    "import numpy as np\n",
    "import pandas as pd"
   ]
  },
  {
   "cell_type": "markdown",
   "metadata": {},
   "source": [
    "## 6"
   ]
  },
  {
   "cell_type": "code",
   "execution_count": 3,
   "metadata": {},
   "outputs": [],
   "source": [
    "# each f output based on input x\n",
    "# target function == f(x)\n",
    "possibleTargetFuncOutputs = np.array([\n",
    "    [0, 0, 0], [0, 0, 1], [0, 1, 0], [0, 1, 1], [1, 0, 0], [1, 0, 1], [1, 1, 0], [1, 1, 1]\n",
    "])\n",
    "\n",
    "# input\n",
    "xOutsideD = np.array(\n",
    "    [\n",
    "        [1,0,1], [1,1,0], [1,1,1]\n",
    "    ]\n",
    ")\n",
    "\n",
    "answerSelections = {\n",
    "    \"a\": 0,\n",
    "    \"b\": 0,\n",
    "    \"c\": 0,\n",
    "    \"d\": 0,\n",
    "}"
   ]
  },
  {
   "cell_type": "code",
   "execution_count": 4,
   "metadata": {},
   "outputs": [],
   "source": [
    "def fAndGNumAgreements(g, boolVectors: np.ndarray, possibleTargetFuncOutputs: np.ndarray, maxDisagreements: int):\n",
    "    # add max agreements parameter?\n",
    "    # for target fuc output\n",
    "    # bothFucAgreed = False\n",
    "    # maxDisagreements = ? 0, 1, 2, 3,\n",
    "    # for output value\n",
    "    # expectedAndHypotAgreed = False\n",
    "    # x-vector outside of D input into g(x)\n",
    "    # if g(x) == expected f(x) output value\n",
    "    #   expectedAndHypotAgreed = True\n",
    "    # else expectedAndHypotAgreed = False\n",
    "    #  if not expectedAndHypotAgreed and maxDisagreements 0:\n",
    "    #   break/return False maybe bothFucAgreed = False\n",
    "    # \n",
    "    # \n",
    "    # outer loop if bothFucAgreed:\n",
    "    #   numOfAgreementFunc += 1\n",
    "    # f(x) already computed and is the matrix of target function outputs\n",
    "    numOfAgreementFunc = 0\n",
    "    for fucOutput in possibleTargetFuncOutputs:\n",
    "        bothFucAgreed = False\n",
    "        numOfAgreements = 0\n",
    "        # currentDisagreements = 0\n",
    "        for i, output in enumerate(fucOutput):\n",
    "            bothFucAgreed = g(boolVectors[i]) == output\n",
    "            if bothFucAgreed:\n",
    "                numOfAgreements += 1\n",
    "            # else:\n",
    "            #     currentDisagreements += 1\n",
    "            # if not bothFucAgreed:\n",
    "            #     if maxDisagreements == 0:\n",
    "            #         bothFucAgreed = False\n",
    "            #         break\n",
    "            #     else:\n",
    "            #         maxDisagreements -= 1\n",
    "        if numOfAgreements == (3 - maxDisagreements):\n",
    "            numOfAgreementFunc += 1\n",
    "    \n",
    "    return numOfAgreementFunc\n",
    "\n",
    "\n",
    "def scoreG(g, boolVectors: np.ndarray, possibleTargetFuncOutputs: np.ndarray):\n",
    "    finalScore = 0\n",
    "    numPoints = boolVectors.ndim\n",
    "    # loop 3 (i) times to score start @ 1? (skip the agreements with 0 since x * 0 = 0)\n",
    "    # call fAndGNumAgreements with max disagreements of i\n",
    "    # then finalScore += fAndGNumAgreements * i\n",
    "    # return finalScore\n",
    "    numOfDisagreements = 0\n",
    "    while numOfDisagreements < 3:\n",
    "        finalScore += fAndGNumAgreements(g, boolVectors, possibleTargetFuncOutputs, numOfDisagreements) * numOfDisagreements\n",
    "        numOfDisagreements += 1\n",
    "    return finalScore\n",
    "\n"
   ]
  },
  {
   "cell_type": "code",
   "execution_count": 5,
   "metadata": {},
   "outputs": [
    {
     "name": "stdout",
     "output_type": "stream",
     "text": [
      "9\n"
     ]
    }
   ],
   "source": [
    "# a\n",
    "# returns 1 on all vectors\n",
    "def gA(threeDBoolVector):\n",
    "    return 1\n",
    "\n",
    "\n",
    "print(scoreG(gA, xOutsideD, possibleTargetFuncOutputs))\n",
    "answerSelections[\"a\"] = scoreG(gA, xOutsideD, possibleTargetFuncOutputs)\n"
   ]
  },
  {
   "cell_type": "code",
   "execution_count": 6,
   "metadata": {},
   "outputs": [
    {
     "name": "stdout",
     "output_type": "stream",
     "text": [
      "9\n"
     ]
    }
   ],
   "source": [
    "# b\n",
    "# returns 0 on all vectors\n",
    "def gB(threeDBoolVector):\n",
    "    return 0\n",
    "\n",
    "\n",
    "print(scoreG(gB, xOutsideD, possibleTargetFuncOutputs))\n",
    "answerSelections[\"b\"] = scoreG(gB, xOutsideD, possibleTargetFuncOutputs)"
   ]
  },
  {
   "cell_type": "code",
   "execution_count": 7,
   "metadata": {},
   "outputs": [
    {
     "name": "stdout",
     "output_type": "stream",
     "text": [
      "9\n"
     ]
    }
   ],
   "source": [
    "# c\n",
    "# XOR odd num of 1 = 1, even num  of 1 = 0\n",
    "from functools import reduce\n",
    "from operator import xor\n",
    "\n",
    "# takes the XOR cumulatively starting with first 2 elements then XOR results with element 3.... and onwards\n",
    "def gC(threeDBoolVector: np.ndarray):\n",
    "    return reduce(xor, threeDBoolVector)\n",
    "\n",
    "print(scoreG(gC, xOutsideD, possibleTargetFuncOutputs))\n",
    "answerSelections[\"c\"] = scoreG(gC, xOutsideD, possibleTargetFuncOutputs)"
   ]
  },
  {
   "cell_type": "code",
   "execution_count": 8,
   "metadata": {},
   "outputs": [
    {
     "name": "stdout",
     "output_type": "stream",
     "text": [
      "9\n"
     ]
    }
   ],
   "source": [
    "# d\n",
    "# the opposite XOR odd num of 1 = 0, even num  of 1 = 1\n",
    "from functools import reduce\n",
    "from operator import xor\n",
    "\n",
    "# the inverse of XOR is XOR so just flipping the bits to reverse the function provided in option d in the HW 1\n",
    "#  1,0,1 => 0,1,0 thus returning the opposite of the XOR function in the end\n",
    "#    0        1\n",
    "def flipBit(bit: int):\n",
    "    return bit ^ 1\n",
    "\n",
    "# XOR elements cumulatively but flips the bits first to get the  opposite of the XOR\n",
    "def gD(threeDBoolVector: np.ndarray):\n",
    "    return reduce(xor, map(flipBit, threeDBoolVector))\n",
    "\n",
    "print(scoreG(gD, xOutsideD, possibleTargetFuncOutputs))\n",
    "answerSelections[\"d\"] = scoreG(gD, xOutsideD, possibleTargetFuncOutputs)"
   ]
  },
  {
   "cell_type": "markdown",
   "metadata": {},
   "source": [
    "#### [e] They are all equivalent (equal scores for g in [a] through [d]).\n",
    "Correct"
   ]
  },
  {
   "cell_type": "markdown",
   "metadata": {},
   "source": [
    "## The Perceptron Learning Algorithm"
   ]
  },
  {
   "cell_type": "markdown",
   "metadata": {},
   "source": [
    "### 7"
   ]
  },
  {
   "cell_type": "code",
   "execution_count": 9,
   "metadata": {},
   "outputs": [],
   "source": [
    "# h(x)\n",
    "# def perceptronFormula():"
   ]
  },
  {
   "cell_type": "code",
   "execution_count": 10,
   "metadata": {},
   "outputs": [],
   "source": [
    "# The Perceptron Learning Algorithm (in 2 dimensions)\n",
    "class PLA:\n",
    "    def __init__(self, x: np.ndarray, y:np.ndarray, w: np.ndarray = np.ndarray([0,0])):\n",
    "        self.x = x\n",
    "        self.y = y\n",
    "        self.w = w\n",
    "    \n",
    "    # h(x)/perceptron formula\n",
    "    def perceptronFormula(self):\n",
    "        return np.sign(self.w.transpose() @ self.x)\n",
    "    \n",
    "    def updateWeightVector(self):\n",
    "        self.w = self.w + (self.y @ self.x)\n",
    "    \n",
    "    def train(self):\n",
    "        pass\n",
    "\n",
    "    def predict(self):\n",
    "        pass\n"
   ]
  },
  {
   "cell_type": "code",
   "execution_count": 11,
   "metadata": {},
   "outputs": [],
   "source": [
    "# points in R 2\n",
    "def slopeOfTwoPoints(X: np.ndarray, Y: np.ndarray) -> float:\n",
    "    return (Y[1] - Y[0])/(X[1] - X[0])\n",
    "\n",
    "# points in R 2\n",
    "def equationOfLine(X: np.ndarray, Y: np.ndarray) -> dict[str, float]:\n",
    "    line = {}\n",
    "    line[\"slope\"] = slopeOfTwoPoints(X, Y)\n",
    "    line[\"yIntercept\"] = -line[\"slope\"] * X[0] + Y[0]\n",
    "    return line\n",
    "\n",
    "# using vectorization for improved performance and practice\n",
    "def calculateYsForLine(X: np.ndarray, line: dict[str, float]) -> np.ndarray:\n",
    "    return (line[\"slope\"] * X) + line[\"yIntercept\"]\n"
   ]
  },
  {
   "cell_type": "code",
   "execution_count": 12,
   "metadata": {},
   "outputs": [],
   "source": [
    "XsVector = np.array([3,2])\n",
    "YsVector = np.array([5,6])\n",
    "\n",
    "line = equationOfLine(XsVector, YsVector)\n",
    "\n",
    "# x\n"
   ]
  }
 ],
 "metadata": {
  "kernelspec": {
   "display_name": "Python 3.9.12 ('base')",
   "language": "python",
   "name": "python3"
  },
  "language_info": {
   "codemirror_mode": {
    "name": "ipython",
    "version": 3
   },
   "file_extension": ".py",
   "mimetype": "text/x-python",
   "name": "python",
   "nbconvert_exporter": "python",
   "pygments_lexer": "ipython3",
   "version": "3.9.12"
  },
  "orig_nbformat": 4,
  "vscode": {
   "interpreter": {
    "hash": "8f90a51e1c9eb9955c269ffa70d7c2152524cf376492da45f9a1efdb301a744b"
   }
  }
 },
 "nbformat": 4,
 "nbformat_minor": 2
}
