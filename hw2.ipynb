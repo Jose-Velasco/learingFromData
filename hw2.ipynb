{
 "cells": [
  {
   "cell_type": "markdown",
   "metadata": {},
   "source": [
    "# Hoeffding Inequality"
   ]
  },
  {
   "cell_type": "markdown",
   "metadata": {},
   "source": [
    "## 1"
   ]
  },
  {
   "cell_type": "markdown",
   "metadata": {},
   "source": [
    "<!--  -->"
   ]
  },
  {
   "cell_type": "markdown",
   "metadata": {},
   "source": [
    "#### Todo\n",
    "- create coin class (needs to be a fair coin)\n",
    "    - `method` flip (head/tail are binary use a bool)\n",
    "    - `property` frequency of heads (the fraction of heads obtained)\n",
    "    - `property` frequency of tails (the fraction of tails obtained)\n",
    "- coin flipper class??\n",
    "    - `method` run simulation\n",
    "    - `method` pick min coin ()\n",
    "    - `method` to pick random coin(pick a random number from 1-1000) save that coin as the randomly chosen coin when flipping/running the experiment\n",
    "    - `property` c1 (c1 is the first coin flipped)\n",
    "    - `property` c_random\n",
    "    - `property` c_min (cmin is the coin which had the minimum frequency of heads, pick the earlier one in case of a tie)\n",
    "    - maybe combine he coins into an array of saved coin where index position maps to saved coin type/reason\n",
    "    - `property` probability percent\n",
    "- run whole experiment function???\n",
    "    - returns dictionary/array of \"full distentions\" of v1, v_random, v_min\n"
   ]
  },
  {
   "cell_type": "code",
   "execution_count": null,
   "metadata": {},
   "outputs": [],
   "source": []
  }
 ],
 "metadata": {
  "kernelspec": {
   "display_name": "Python 3.9.6 64-bit",
   "language": "python",
   "name": "python3"
  },
  "language_info": {
   "name": "python",
   "version": "3.9.6"
  },
  "orig_nbformat": 4,
  "vscode": {
   "interpreter": {
    "hash": "11938c6bc6919ae2720b4d5011047913343b08a43b18698fd82dedb0d4417594"
   }
  }
 },
 "nbformat": 4,
 "nbformat_minor": 2
}
