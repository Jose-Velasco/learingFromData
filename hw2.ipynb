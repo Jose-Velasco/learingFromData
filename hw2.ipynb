{
 "cells": [
  {
   "cell_type": "code",
   "execution_count": 1,
   "metadata": {},
   "outputs": [],
   "source": [
    "import numpy as np\n",
    "import pandas as pd\n",
    "import altair as alt\n",
    "import concurrent.futures\n",
    "from functools import wraps"
   ]
  },
  {
   "cell_type": "markdown",
   "metadata": {},
   "source": [
    "# Hoeffding Inequality"
   ]
  },
  {
   "cell_type": "markdown",
   "metadata": {},
   "source": [
    "## 1"
   ]
  },
  {
   "cell_type": "markdown",
   "metadata": {},
   "source": [
    "<!--  -->"
   ]
  },
  {
   "cell_type": "markdown",
   "metadata": {},
   "source": [
    "#### Todo\n",
    "- create coin class (needs to be a fair coin)\n",
    "    - ~~`method` flip (head/tail are binary use a bool)~~\n",
    "    - ~~`method` frequency of heads (the fraction of heads obtained)~~\n",
    "    - ~~`method` frequency of tails (the fraction of tails obtained)~~\n",
    "- coin flipper class??\n",
    "    - `method` run simulation\n",
    "    - `method` pick min coin ()\n",
    "    - ~~`method` to pick random coin(pick a random number from 1-1000) save that coin as the randomly chosen coin when flipping/running the experiment~~\n",
    "    - ~~`property` c1 (c1 is the first coin flipped)~~\n",
    "    - ~~`property` c_random~~\n",
    "    - `property` c_min (c_min is the coin which had the minimum frequency of heads, pick the earlier one in case of a tie)\n",
    "    - maybe combine he coins into an array of saved coin where index position maps to saved coin type/reason\n",
    "    - `property` probability percent???\n",
    "- run whole experiment function???\n",
    "    - returns dictionary/array of \"full distentions??(distribution)\" of v1, v_random, v_min\n"
   ]
  },
  {
   "cell_type": "code",
   "execution_count": 2,
   "metadata": {},
   "outputs": [],
   "source": [
    "from enum import Enum\n",
    "from typing import Literal\n",
    "from random import randrange\n",
    "\n",
    "class CoinSides(Enum):\n",
    "    HEAD = 0\n",
    "    Tail = 1\n",
    "\n",
    "\n",
    "class FairCoin:\n",
    "    def __init__(self) -> None:\n",
    "        self._numHeads = 0\n",
    "        self._numTails = 0\n",
    "        self._head_vs_tails_probability = 0.5\n",
    "\n",
    "    def _processFlip(self, coinSide: Literal[0, 1]) -> None:\n",
    "        if coinSide == CoinSides.HEAD.value:\n",
    "            self._numHeads += 1\n",
    "        elif coinSide == CoinSides.Tail.value:\n",
    "            self._numTails += 1\n",
    "    \n",
    "    def flip(self) -> Literal[0, 1]:\n",
    "        numOfFlips = 1\n",
    "        # Binomial Distribution should return a scalar value of 0 | 1\n",
    "        results: Literal[0, 1] = np.random.binomial(numOfFlips, self._head_vs_tails_probability)\n",
    "        self._processFlip(results)\n",
    "        return results\n",
    "    \n",
    "    def headFrequency(self) -> float:\n",
    "        totalCoinFlips = self._numHeads + self._numTails\n",
    "        return self._numHeads / totalCoinFlips\n",
    "\n",
    "    def tailFrequency(self) -> float:\n",
    "        totalCoinFlips = self._numHeads + self._numTails\n",
    "        return self._numTails / totalCoinFlips\n",
    "\n",
    "class CoinFlipper:\n",
    "    def __init__(self) -> None:\n",
    "        self._coins: dict[Literal[\"firstCoin\", \"randomCoin\", \"minCoin\"], FairCoin | None] = self._defaultCoins()\n",
    "\n",
    "    def getCoins(self):\n",
    "        return self._coins\n",
    "    \n",
    "    def _defaultCoins(self) ->  dict[Literal[\"firstCoin\", \"randomCoin\", \"minCoin\"], FairCoin | None]:\n",
    "        return {\n",
    "            \"firstCoin\": None,\n",
    "            \"randomCoin\": None,\n",
    "            \"minCoin\": None,\n",
    "        }\n",
    "    \n",
    "    def _randomCoinToPick(self, numOfCoins: int) -> int:\n",
    "        '''\n",
    "        numOfCoins: int\n",
    "                integer of coins to choose from. range is [0, numOfCoins)\n",
    "\n",
    "        ### returns: \n",
    "        Literal[0, numOfCoins - 1]\n",
    "                returns a random number that will map to the coin that should used be for self._coins[\"randomCoin\"]\n",
    "\n",
    "                Note return value of 0 means the first coin and  (numOfCoins - 1) means coin number equal to numOfCoins\n",
    "        '''\n",
    "        return randrange(0, numOfCoins)\n",
    "    \n",
    "    def flipCoins(self, sideFrequencyToTrack: CoinSides, numOfCoins: int, flipsPerCoin: int):\n",
    "        randomCoinNum = self._randomCoinToPick(numOfCoins)\n",
    "        for coinNum in range(numOfCoins):\n",
    "            coin = FairCoin()\n",
    "            if coinNum == 0:\n",
    "              self._coins[\"firstCoin\"] = coin\n",
    "            if self._coins[\"randomCoin\"] is None and coinNum == randomCoinNum:\n",
    "                self._coins[\"randomCoin\"] = coin\n",
    "            \n",
    "            for flipNum in range(flipsPerCoin):\n",
    "                coin.flip()\n",
    "            if self._coins[\"minCoin\"] is None or coin.headFrequency() < self._coins[\"minCoin\"].headFrequency():\n",
    "                self._coins[\"minCoin\"] = coin\n"
   ]
  },
  {
   "cell_type": "code",
   "execution_count": 3,
   "metadata": {},
   "outputs": [],
   "source": [
    "def _coinFlipHelper(numOfCoins: int, flipsPerCoin: int, printI: int) -> CoinFlipper:\n",
    "    print(f\"iteration = {printI}\")\n",
    "    print(f\"in helper\")\n",
    "    coinFlipper = CoinFlipper()\n",
    "    coinFlipper.flipCoins(CoinSides.HEAD, numOfCoins, flipsPerCoin)\n",
    "    return coinFlipper"
   ]
  },
  {
   "cell_type": "code",
   "execution_count": 4,
   "metadata": {},
   "outputs": [],
   "source": [
    "def multiprocessorHoeffdingExperiment(iterations: int, numOfCoins: int, flipsPerCoin: int):\n",
    "        coinHeadsFrequencies: dict[Literal[\"firstV\", \"randomV\", \"minV\"], list[float]] = {\n",
    "        \"firstV\": [],\n",
    "        \"randomV\": [],\n",
    "        \"minV\": [],\n",
    "        }\n",
    "\n",
    "        with concurrent.futures.ProcessPoolExecutor() as executor:\n",
    "            print(f\"in multi ProcessPoolExecutor\")\n",
    "            results = [executor.submit(_coinFlipHelper, numOfCoins, flipsPerCoin, i) for i in range(iterations)]\n",
    "\n",
    "            for f in concurrent.futures.as_completed(results):\n",
    "                coinHeadsFrequencies[\"firstV\"].append(f.result().getCoins()[\"firstCoin\"].headFrequency())\n",
    "                coinHeadsFrequencies[\"randomV\"].append(f.result().getCoins()[\"randomCoin\"].headFrequency())\n",
    "                coinHeadsFrequencies[\"minV\"].append(f.result().getCoins()[\"minCoin\"].headFrequency())\n",
    "        return coinHeadsFrequencies"
   ]
  },
  {
   "cell_type": "code",
   "execution_count": 5,
   "metadata": {},
   "outputs": [],
   "source": [
    "# def runHoeffdingInequalityExperiment(iterations: int, numOfCoins: int, flipsPerCoin: int):\n",
    "#     coinHeadsFrequencies: dict[Literal[\"firstV\", \"randomV\", \"minV\"], list[float]] = {\n",
    "#         \"firstV\": [],\n",
    "#         \"randomV\": [],\n",
    "#         \"minV\": [],\n",
    "#     }\n",
    "\n",
    "#     for i in range(iterations):\n",
    "#         print(f\"iteration = {i}\")\n",
    "#         coinFlipper = CoinFlipper()\n",
    "#         coinFlipper.flipCoins(CoinSides.HEAD, numOfCoins, flipsPerCoin)\n",
    "#         coinHeadsFrequencies[\"firstV\"].append(coinFlipper.getCoins()[\"firstCoin\"].headFrequency())\n",
    "#         coinHeadsFrequencies[\"randomV\"].append(coinFlipper.getCoins()[\"randomCoin\"].headFrequency())\n",
    "#         coinHeadsFrequencies[\"minV\"].append(coinFlipper.getCoins()[\"minCoin\"].headFrequency())\n",
    "#     return coinHeadsFrequencies\n"
   ]
  },
  {
   "cell_type": "markdown",
   "metadata": {},
   "source": [
    "#### 1: my HW Answer = b (I was correct)"
   ]
  },
  {
   "cell_type": "code",
   "execution_count": 6,
   "metadata": {},
   "outputs": [],
   "source": [
    "# vFullDistributions = runHoeffdingInequalityExperiment(100000, 1000, 10)\n",
    "# vFullDistributions = multiprocessorHoeffdingExperiment(20000, 1000, 10)\n",
    "\n",
    "# v1 = np.array(vFullDistributions[\"firstV\"])\n",
    "# vRand = np.array(vFullDistributions[\"randomV\"])\n",
    "# vMin = np.array(vFullDistributions[\"minV\"])\n",
    "\n",
    "# v1Avg = np.mean(v1)\n",
    "# v1Avg = 0.498844\n",
    "# vRandAvg = np.mean(vRand)\n",
    "# vRandAvg = 0.50110599\n",
    "# vMinAvg = np.mean(vMin)\n",
    "# vMinAvg = 0.03776900 \n",
    "# Closets to b) 0.01\n"
   ]
  },
  {
   "cell_type": "markdown",
   "metadata": {},
   "source": [
    "Error: A process in the process pool was terminated abruptly while the future was running or pending.\n",
    "\n",
    "When using the multiprocessing python library it was not working when ran through the notebook. In order to get this code working with the multiprocessing library I needed to run in as a script and using `if __name__ == \"__main__\":`\n",
    "\n",
    "when running this code in the notebook without multiprocessing it too about 40 minutes, with multiprocessing it only took a few minutes"
   ]
  },
  {
   "cell_type": "markdown",
   "metadata": {},
   "source": [
    "#### 2: my HW Answer = d (I was correct)"
   ]
  },
  {
   "cell_type": "markdown",
   "metadata": {},
   "source": [
    "*Mu was set to 50% thus is a fair coin. After running the experiment over many iterations our distribution shows that v(the fractions of heads) approximated to probability of getting heads overall*"
   ]
  },
  {
   "cell_type": "markdown",
   "metadata": {},
   "source": [
    "n=1000\n",
    "k= ??? 0.5\n",
    "v = k/n ??? = 0.5/1000 = 0.0005\n",
    "mu = 0.5\n",
    "\n",
    "|v - mu| = 0.0005 - 0.5 = 0.4995\n",
    "\n",
    "2e^(-2*1000*(EPSILON)^2)"
   ]
  },
  {
   "cell_type": "code",
   "execution_count": 7,
   "metadata": {},
   "outputs": [],
   "source": [
    "# df0 = pd.read_csv(\"./HW2Data/v1.csv\", header=None, names=[\"v1\"])\n",
    "# df1 = pd.read_csv(\"./HW2Data/vRand.csv\", header=None, names=[\"vRand\"])\n",
    "# df2 = pd.read_csv(\"./HW2Data/vMin.csv\", header=None, names=[\"vMin\"])\n",
    "\n",
    "# finalDF = pd.concat([df0, df1, df2], axis=1, names=[\"v1\", \"vRand\", \"vMin\"])\n",
    "# finalDF.to_csv(\"./HW2Data/HW2_Vs.csv\", index=False)"
   ]
  },
  {
   "cell_type": "code",
   "execution_count": 8,
   "metadata": {},
   "outputs": [],
   "source": [
    "source = pd.read_csv(\"./HW2Data/HW2_Vs.csv\")"
   ]
  },
  {
   "cell_type": "code",
   "execution_count": 29,
   "metadata": {},
   "outputs": [
    {
     "data": {
      "text/html": [
       "\n",
       "<div id=\"altair-viz-83e4b556d1a5420581df4e919b28cfb1\"></div>\n",
       "<script type=\"text/javascript\">\n",
       "  var VEGA_DEBUG = (typeof VEGA_DEBUG == \"undefined\") ? {} : VEGA_DEBUG;\n",
       "  (function(spec, embedOpt){\n",
       "    let outputDiv = document.currentScript.previousElementSibling;\n",
       "    if (outputDiv.id !== \"altair-viz-83e4b556d1a5420581df4e919b28cfb1\") {\n",
       "      outputDiv = document.getElementById(\"altair-viz-83e4b556d1a5420581df4e919b28cfb1\");\n",
       "    }\n",
       "    const paths = {\n",
       "      \"vega\": \"https://cdn.jsdelivr.net/npm//vega@5?noext\",\n",
       "      \"vega-lib\": \"https://cdn.jsdelivr.net/npm//vega-lib?noext\",\n",
       "      \"vega-lite\": \"https://cdn.jsdelivr.net/npm//vega-lite@4.17.0?noext\",\n",
       "      \"vega-embed\": \"https://cdn.jsdelivr.net/npm//vega-embed@6?noext\",\n",
       "    };\n",
       "\n",
       "    function maybeLoadScript(lib, version) {\n",
       "      var key = `${lib.replace(\"-\", \"\")}_version`;\n",
       "      return (VEGA_DEBUG[key] == version) ?\n",
       "        Promise.resolve(paths[lib]) :\n",
       "        new Promise(function(resolve, reject) {\n",
       "          var s = document.createElement('script');\n",
       "          document.getElementsByTagName(\"head\")[0].appendChild(s);\n",
       "          s.async = true;\n",
       "          s.onload = () => {\n",
       "            VEGA_DEBUG[key] = version;\n",
       "            return resolve(paths[lib]);\n",
       "          };\n",
       "          s.onerror = () => reject(`Error loading script: ${paths[lib]}`);\n",
       "          s.src = paths[lib];\n",
       "        });\n",
       "    }\n",
       "\n",
       "    function showError(err) {\n",
       "      outputDiv.innerHTML = `<div class=\"error\" style=\"color:red;\">${err}</div>`;\n",
       "      throw err;\n",
       "    }\n",
       "\n",
       "    function displayChart(vegaEmbed) {\n",
       "      vegaEmbed(outputDiv, spec, embedOpt)\n",
       "        .catch(err => showError(`Javascript Error: ${err.message}<br>This usually means there's a typo in your chart specification. See the javascript console for the full traceback.`));\n",
       "    }\n",
       "\n",
       "    if(typeof define === \"function\" && define.amd) {\n",
       "      requirejs.config({paths});\n",
       "      require([\"vega-embed\"], displayChart, err => showError(`Error loading script: ${err.message}`));\n",
       "    } else {\n",
       "      maybeLoadScript(\"vega\", \"5\")\n",
       "        .then(() => maybeLoadScript(\"vega-lite\", \"4.17.0\"))\n",
       "        .then(() => maybeLoadScript(\"vega-embed\", \"6\"))\n",
       "        .catch(showError)\n",
       "        .then(() => displayChart(vegaEmbed));\n",
       "    }\n",
       "  })({\"config\": {\"view\": {\"continuousWidth\": 400, \"continuousHeight\": 300}}, \"repeat\": {\"column\": [\"v1\", \"vRand\", \"vMin\"]}, \"spec\": {\"layer\": [{\"mark\": \"rect\", \"encoding\": {\"x\": {\"bin\": true, \"field\": {\"repeat\": \"column\"}}, \"y\": {\"aggregate\": \"count\", \"type\": \"quantitative\"}}}, {\"mark\": {\"type\": \"rule\", \"color\": \"red\"}, \"encoding\": {\"size\": {\"value\": 4}, \"x\": {\"aggregate\": \"mean\", \"field\": {\"repeat\": \"column\"}, \"type\": \"quantitative\"}}}], \"data\": {\"url\": \"altair-data-8b2869e02a537dfd3e6fe7ed5ada2b2a.json\", \"format\": {\"type\": \"json\"}}}, \"$schema\": \"https://vega.github.io/schema/vega-lite/v4.17.0.json\"}, {\"mode\": \"vega-lite\"});\n",
       "</script>"
      ],
      "text/plain": [
       "alt.RepeatChart(...)"
      ]
     },
     "execution_count": 29,
     "metadata": {},
     "output_type": "execute_result"
    }
   ],
   "source": [
    "alt.data_transformers.enable(\"json\")\n",
    "\n",
    "# base = alt.Chart(source)\n",
    "\n",
    "# bar = base.mark_rect().encode(\n",
    "#     x=alt.X(\"v\", bin=True),\n",
    "#     y=\"count()\"\n",
    "# )\n",
    "\n",
    "# rule = base.mark_rule(color=\"red\").encode(\n",
    "#     x=\"mean(v):Q\",\n",
    "#     size=alt.value(4)\n",
    "# )\n",
    "\n",
    "# bar + rule\n",
    "\n",
    "base = alt.Chart(source)\n",
    "\n",
    "meanLine = base.mark_rule(color=\"red\").encode(\n",
    "    x=alt.X(alt.repeat(\"column\"), aggregate=\"mean\", type='quantitative'),\n",
    "    size=alt.value(4)\n",
    ")\n",
    "\n",
    "chart = base.mark_rect().encode(\n",
    "    x=alt.X(alt.repeat(\"column\"), bin=True),\n",
    "    y=\"count()\",\n",
    ")\n",
    "\n",
    "(chart + meanLine).repeat(\n",
    "    column = list(source.columns)\n",
    ")"
   ]
  }
 ],
 "metadata": {
  "kernelspec": {
   "display_name": "Python 3.10.5 ('sjsu-research')",
   "language": "python",
   "name": "python3"
  },
  "language_info": {
   "codemirror_mode": {
    "name": "ipython",
    "version": 3
   },
   "file_extension": ".py",
   "mimetype": "text/x-python",
   "name": "python",
   "nbconvert_exporter": "python",
   "pygments_lexer": "ipython3",
   "version": "3.10.5"
  },
  "orig_nbformat": 4,
  "vscode": {
   "interpreter": {
    "hash": "d5822147d25398cc109c1bdf54eb1ee7a6c0faef180858af0c55c5362b83b772"
   }
  }
 },
 "nbformat": 4,
 "nbformat_minor": 2
}
