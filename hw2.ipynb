{
 "cells": [
  {
   "cell_type": "code",
   "execution_count": 52,
   "metadata": {},
   "outputs": [],
   "source": [
    "import numpy as np\n",
    "import pandas as pd\n",
    "import altair as alt"
   ]
  },
  {
   "cell_type": "markdown",
   "metadata": {},
   "source": [
    "# Hoeffding Inequality"
   ]
  },
  {
   "cell_type": "markdown",
   "metadata": {},
   "source": [
    "## 1"
   ]
  },
  {
   "cell_type": "markdown",
   "metadata": {},
   "source": [
    "<!--  -->"
   ]
  },
  {
   "cell_type": "markdown",
   "metadata": {},
   "source": [
    "#### Todo\n",
    "- create coin class (needs to be a fair coin)\n",
    "    - ~~`method` flip (head/tail are binary use a bool)~~\n",
    "    - ~~`method` frequency of heads (the fraction of heads obtained)~~\n",
    "    - ~~`method` frequency of tails (the fraction of tails obtained)~~\n",
    "- coin flipper class??\n",
    "    - `method` run simulation\n",
    "    - `method` pick min coin ()\n",
    "    - ~~`method` to pick random coin(pick a random number from 1-1000) save that coin as the randomly chosen coin when flipping/running the experiment~~\n",
    "    - ~~`property` c1 (c1 is the first coin flipped)~~\n",
    "    - ~~`property` c_random~~\n",
    "    - `property` c_min (c_min is the coin which had the minimum frequency of heads, pick the earlier one in case of a tie)\n",
    "    - maybe combine he coins into an array of saved coin where index position maps to saved coin type/reason\n",
    "    - `property` probability percent???\n",
    "- run whole experiment function???\n",
    "    - returns dictionary/array of \"full distentions??(distribution)\" of v1, v_random, v_min\n"
   ]
  },
  {
   "cell_type": "code",
   "execution_count": 53,
   "metadata": {},
   "outputs": [],
   "source": [
    "from enum import Enum\n",
    "from typing import Literal\n",
    "from random import randrange\n",
    "\n",
    "class CoinSides(Enum):\n",
    "    HEAD = 0\n",
    "    Tail = 1\n",
    "\n",
    "\n",
    "class FairCoin:\n",
    "    def __init__(self) -> None:\n",
    "        self._numHeads = 0\n",
    "        self._numTails = 0\n",
    "        self._head_vs_tails_probability = 0.5\n",
    "\n",
    "    def _processFlip(self, coinSide: Literal[0, 1]) -> None:\n",
    "        if coinSide == CoinSides.HEAD.value:\n",
    "            self._numHeads += 1\n",
    "        elif coinSide == CoinSides.Tail.value:\n",
    "            self._numTails += 1\n",
    "    \n",
    "    def flip(self) -> Literal[0, 1]:\n",
    "        numOfFlips = 1\n",
    "        # Binomial Distribution should return a scalar value of 0 | 1\n",
    "        results: Literal[0, 1] = np.random.binomial(numOfFlips, self._head_vs_tails_probability)\n",
    "        self._processFlip(results)\n",
    "        return results\n",
    "    \n",
    "    def headFrequency(self) -> float:\n",
    "        totalCoinFlips = self._numHeads + self._numTails\n",
    "        return self._numHeads / totalCoinFlips\n",
    "\n",
    "    def tailFrequency(self) -> float:\n",
    "        totalCoinFlips = self._numHeads + self._numTails\n",
    "        return self._numTails / totalCoinFlips\n",
    "\n",
    "class CoinFlipper:\n",
    "    def __init__(self) -> None:\n",
    "        self._coins: dict[str, FairCoin | None] = {\n",
    "            \"firstCoin\": None,\n",
    "            \"randomCoin\": None,\n",
    "            \"minCoin\": None,\n",
    "        }\n",
    "    \n",
    "    def _randomCoinToPick(self, numOfCoins: int) -> int:\n",
    "        '''\n",
    "        ### returns: \n",
    "        Literal[0, numOfCoins - 1]\n",
    "                returns a random number that will map to the coin that should used be for self._coins[\"randomCoin\"]\n",
    "\n",
    "                Note return value of 0 means the first coin and  (numOfCoins - 1) means coin number equal to numOfCoins\n",
    "        '''\n",
    "        return randrange(0, numOfCoins)\n",
    "\n",
    "    def flipCoins(self, sideFrequencyToTrack: CoinSides, numOfCoins: int = 1000, flipsPerCoin: int = 10):\n",
    "        randomCoinNum = self._randomCoinToPick()\n",
    "        for coinNum in range(numOfCoins):\n",
    "            coin = FairCoin()\n",
    "            if coinNum == 0:\n",
    "              self._coins[\"firstCoin\"] = coin\n",
    "            if self._coins[\"randomCoin\"] is None and coinNum == randomCoinNum:\n",
    "                self._coins[\"randomCoin\"] = coin\n",
    "            \n",
    "            for flipNum in range(flipsPerCoin):\n",
    "                coin.flip()\n",
    "\n"
   ]
  },
  {
   "cell_type": "code",
   "execution_count": null,
   "metadata": {},
   "outputs": [],
   "source": [
    "coin = FairCoin()"
   ]
  }
 ],
 "metadata": {
  "kernelspec": {
   "display_name": "Python 3.10.5 ('sjsu-research')",
   "language": "python",
   "name": "python3"
  },
  "language_info": {
   "codemirror_mode": {
    "name": "ipython",
    "version": 3
   },
   "file_extension": ".py",
   "mimetype": "text/x-python",
   "name": "python",
   "nbconvert_exporter": "python",
   "pygments_lexer": "ipython3",
   "version": "3.10.5"
  },
  "orig_nbformat": 4,
  "vscode": {
   "interpreter": {
    "hash": "d5822147d25398cc109c1bdf54eb1ee7a6c0faef180858af0c55c5362b83b772"
   }
  }
 },
 "nbformat": 4,
 "nbformat_minor": 2
}
